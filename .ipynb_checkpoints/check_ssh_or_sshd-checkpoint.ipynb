{
 "cells": [
  {
   "cell_type": "markdown",
   "id": "1d6fad44-ffa8-4db2-8142-3d6965d078a2",
   "metadata": {},
   "source": [
    "**Program to check if ssh.service is there or sshd.service is there in the system**<br>\n",
    "*#a.1*  running `systemctl list-units --all` and sending the output of this command to the file. <br>\n",
    "*#a.1.1* save all units whether they are inactive/active managed by systemd to a file.<br>\n",
    "*#a.2*  check if 'ssh.service' exists in the file(output of the above command).<br>\n",
    "*#a.2.1* if a line is selected then the grep command will show the line, if no line is selected then it will output nothing, but we are sending the output of this command to devnull (which just suppresses/ignores whatever comes to it).<br>\n",
    "*#a.3* But the grep program exit code (returncode) is 0 if a line is selected (a pattern is found) and 1 if a line is not selected (no pattern found) but the program ran successfully and 2 if the program fails.<br>\n",
    "*#a.3.1* Decide which service to use in this system.\n"
   ]
  },
  {
   "cell_type": "code",
   "execution_count": null,
   "id": "dedce1b5-0b9d-4dde-819a-1c48873f68a8",
   "metadata": {},
   "outputs": [],
   "source": [
    "import subprocess\n",
    "\n",
    "with open(\"sytemd-units.txt\",\"w\") as s:                                        #a.1\n",
    "    subprocess.run([\"systemctl\",\"list-units\",\"--all\"],stdout=s,text=True)      #a.1.1          \n",
    "\n",
    "\n",
    "temp_process_object = subprocess.run([\"grep\",\"-i\",\"ssh.service\",\"sytemd-units.txt\"],stdout=subprocess.DEVNULL)  #a.2 \n",
    "\n",
    "#a.2.1\n",
    "\n",
    "if temp_process_object.returncode==0:                    #a.3 #a.3.1                                                   \n",
    "    service = \"ssh.service\"\n",
    "if temp_process_object.returncode==1:\n",
    "    service = \"sshd.service\""
   ]
  }
 ],
 "metadata": {
  "kernelspec": {
   "display_name": "Python 3 (ipykernel)",
   "language": "python",
   "name": "python3"
  },
  "language_info": {
   "codemirror_mode": {
    "name": "ipython",
    "version": 3
   },
   "file_extension": ".py",
   "mimetype": "text/x-python",
   "name": "python",
   "nbconvert_exporter": "python",
   "pygments_lexer": "ipython3",
   "version": "3.13.5"
  }
 },
 "nbformat": 4,
 "nbformat_minor": 5
}
