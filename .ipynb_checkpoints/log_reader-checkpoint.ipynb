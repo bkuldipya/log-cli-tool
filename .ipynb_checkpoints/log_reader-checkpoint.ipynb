{
 "cells": [
  {
   "cell_type": "markdown",
   "id": "1a6b8712-e050-400e-8fc3-4ac4e3c80c38",
   "metadata": {},
   "source": [
    "**log_reader module tasks:**<br>\n",
    "1.Reads raw logs from static sources and feeds them line-by-line for IOC extraction.<br>\n",
    "2.Reads from a log file line-by-line (parse_log_file).<br>\n",
    "3.Reads from a string of logs (like journalctl output) line-by-line (parse_log_static).<br>\n",
    "4.Does not analyze or extract IOCs itself, just prepares raw log lines.<br>\n",
    "5.yields a ioc_dictionary if found from the ioc_extractor module<br>\n",
    "\n",
    "\n",
    "*#a* Behaviour of parse_log_file function<br>\n",
    "*#1.1* Input = file_path (name or location of the file)<br>\n",
    "*#1.2* #output = dictionary one at a time<br>\n",
    "*#2*<br>\n",
    "*#2.1* each line is separated by a newline (\\n)<br>\n",
    "*#2.2* for each line it calls the function inside the ioc_extractor module<br><br>\n",
    "*#b* Behaviour of parse_log_static()<br>\n",
    "Input: string<br>\n",
    "Output: dictionary one at a time\n",
    "\n"
   ]
  },
  {
   "cell_type": "code",
   "execution_count": null,
   "id": "04ba37f6-5071-47a9-b901-918fc9e60c6e",
   "metadata": {},
   "outputs": [],
   "source": [
    "import ioc_extractor\n",
    "\n",
    "def parse_log_file(file_path):               #1.1 #1.2        \n",
    "    with open(file_path,'r') as f:\n",
    "        for line in f:                                        #2.1\n",
    "            ioc_dict = ioc_extractor.extracted_iocs(line)                #2.2\n",
    "            if ioc_dict is not None:\n",
    "                yield ioc_dict        \n",
    "\n",
    "def parse_log_static(stdout):\n",
    "    for line in stdout.splitlines():\n",
    "        ioc_dict = ioc_extractor.extracted_iocs(line)\n",
    "        if ioc_dict is not None:\n",
    "            yield ioc_dict                "
   ]
  }
 ],
 "metadata": {
  "kernelspec": {
   "display_name": "Python 3 (ipykernel)",
   "language": "python",
   "name": "python3"
  },
  "language_info": {
   "codemirror_mode": {
    "name": "ipython",
    "version": 3
   },
   "file_extension": ".py",
   "mimetype": "text/x-python",
   "name": "python",
   "nbconvert_exporter": "python",
   "pygments_lexer": "ipython3",
   "version": "3.13.5"
  }
 },
 "nbformat": 4,
 "nbformat_minor": 5
}
