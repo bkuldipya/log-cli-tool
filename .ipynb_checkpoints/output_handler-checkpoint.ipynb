{
 "cells": [
  {
   "cell_type": "markdown",
   "id": "be4886c6-9cdf-4828-8823-fd0e6daa09f3",
   "metadata": {},
   "source": [
    "**output_handler module tasks:**<br>\n",
    "Manages output of extracted data or errors.<br>\n",
    "1.Prints extracted IOC dictionaries or error messages to the console if no output file is specified.<br>\n",
    "2.Appends the JSON-formatted data or errors to an output file if a filename is provided.<br>\n",
    "3.Keeps output logic separate from parsing and extraction logic.<br>"
   ]
  },
  {
   "cell_type": "code",
   "execution_count": null,
   "id": "36fd32a2-7a64-4bdb-bfd6-df644a85d77f",
   "metadata": {},
   "outputs": [],
   "source": [
    "import json\n",
    "import ioc_extractor\n",
    "\n",
    "\n",
    "def handle_output(ioc_dict,output):\n",
    "    if output is None:\n",
    "        print(ioc_dict)\n",
    "            \n",
    "    else:\n",
    "        with open(output,\"a\") as f:\n",
    "            f.write(json.dumps(ioc_dict)+\"\\n\")\n",
    "\n",
    "def handle_errors(string,output):\n",
    "    if output is None:\n",
    "        print(string)\n",
    "    else:\n",
    "        with open(output,\"a\") as f:\n",
    "            f.write(string+\"\\n\")\n",
    "  "
   ]
  }
 ],
 "metadata": {
  "kernelspec": {
   "display_name": "Python 3 (ipykernel)",
   "language": "python",
   "name": "python3"
  },
  "language_info": {
   "codemirror_mode": {
    "name": "ipython",
    "version": 3
   },
   "file_extension": ".py",
   "mimetype": "text/x-python",
   "name": "python",
   "nbconvert_exporter": "python",
   "pygments_lexer": "ipython3",
   "version": "3.13.5"
  }
 },
 "nbformat": 4,
 "nbformat_minor": 5
}
