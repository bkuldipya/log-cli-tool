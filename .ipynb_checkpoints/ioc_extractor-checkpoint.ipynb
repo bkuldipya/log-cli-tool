{
 "cells": [
  {
   "cell_type": "markdown",
   "id": "4402e4e8-4f11-49ac-ae6a-6eefafdd958a",
   "metadata": {},
   "source": [
    "**ioc_extractor module tasks:**<br>\n",
    "Performs pattern matching and extraction of Indicators of Compromise (IOCs) from individual log lines.<br>\n",
    "1.Uses regex to detect and parse failed SSH login attempts from log lines.<br>\n",
    "2.Extracts relevant fields: timestamp, service, username, IP address.<br>\n",
    "3.Returns a dictionary with IOC details or None if no IOC found.<br>\n",
    "4.Encapsulates all logic related to IOC identification.<br>"
   ]
  },
  {
   "cell_type": "code",
   "execution_count": null,
   "id": "7ed9e7cc-4d76-40ab-a74a-b8aa7510a183",
   "metadata": {},
   "outputs": [],
   "source": [
    "import re\n",
    "\n",
    "ssh_pattern = (r\"([A-Z][a-z]{2}[ ]+\\d+ \\d+\\:\\d+\\:\\d+) \"                                             #1.1\n",
    " r\"\\w+ \"                                                                                            #1.2 \n",
    " r\"(\\w+)\\[\\d+\\]\\: \"                                                                                 #1.3\n",
    " r\"failed password (?:for invalid user|for user|for) (\\w+) from (\\d+\\.\\d+\\.\\d+\\.\\d+) port \\d+ \\w+\"  #1.4\n",
    ") \n",
    "\n",
    "\n",
    "def extracted_iocs(log_line):                                                                      #3.1\n",
    "    d = {}                                                                                         #3.2\n",
    "    match_ssh = re.search(ssh_pattern,log_line,flags=re.IGNORECASE)\n",
    "    \n",
    "\n",
    "    if match_ssh:\n",
    "        d[\"service\"] = str(match_ssh.group(2))\n",
    "        d[\"username\"] = str(match_ssh.group(3))                                                    #3.3\n",
    "        d[\"ip\"] = str(match_ssh.group(4))\n",
    "        d[\"timestamp\"] = str(match_ssh.group(1))\n",
    "\n",
    "    if d:\n",
    "        return d\n",
    "    else:\n",
    "        return None\n",
    "      \n",
    "    "
   ]
  },
  {
   "cell_type": "raw",
   "id": "6987ef02-4c15-4682-b159-5bc014a84bd6",
   "metadata": {},
   "source": [
    "#Extracts IOCs(ip,timestamp,username) from a given log line using regex\n",
    "\n",
    "#Behavior of function (extracted_iocs)\n",
    "#Input - string (one log line)\n",
    "#Output - dictionary\n",
    "\n"
   ]
  },
  {
   "cell_type": "raw",
   "id": "9aad5345-2bf6-476f-8fad-59f126923292",
   "metadata": {},
   "source": [
    "#1.1timestamp\n",
    "#1.2hostname(name of the computer)\n",
    "#1.3service name and service id(pid) also capturing the service to know what type of log\n",
    "#1.4log line\n",
    "\n",
    "\n",
    "#2.1timestamp\n",
    "#2.2hostname(name of the computer)\n",
    "\n",
    "#3.1each log line is a string\n",
    "#3.2treat this as a local variable, so as to create a new empty dict everytime for each new log line\n",
    "#3.3converting to string so if want to convert to json then can do it\n",
    "#3.4if d is not empty then do it (if empty then it means it is false)\n",
    "#3.5 returns empty {} only when there is no match but not good for long lines where ssh/sudo not there\n"
   ]
  },
  {
   "cell_type": "raw",
   "id": "70734309-7695-4d18-bdd3-711fb0791966",
   "metadata": {},
   "source": [
    "#test: \n",
    "extracted_iocs(\"Aug 12 19:00:01 server sshd[12345]: Accepted password for alice from 192.168.1.10 port 54321 ssh2\")\n",
    "extracted_iocs(\"Aug 12 19:05:15 server sshd[12346]: Failed password for invalid user bob from 10.0.0.5 port 2222 ssh2\")\n"
   ]
  },
  {
   "cell_type": "code",
   "execution_count": null,
   "id": "36f3ee92-c576-4604-9f0a-d56af0ea3ae2",
   "metadata": {},
   "outputs": [],
   "source": [
    "sudo_pattern = (r\"([A-Z][a-z]{2}[ ]+\\d+ \\d+\\:\\d+\\:\\d+) \"     #2.1\n",
    " r\"\\w+ \"                                                     #2.2\n",
    " r\"sudo\\[\\d+\\]\\:[ \\t]\"\n",
    " r\"[^;]+\\;[^;]+\\;[^;]+\\;[ \\t]COMMAND=(.*)\" \n",
    ")\n",
    "\n",
    "match_sudo = re.search(sudo_pattern,log_line,flags=re.IGNORECASE)\n",
    " elif match_sudo:\n",
    "        d[\"command\"]=str(match_sudo.group(2))"
   ]
  }
 ],
 "metadata": {
  "kernelspec": {
   "display_name": "Python 3 (ipykernel)",
   "language": "python",
   "name": "python3"
  },
  "language_info": {
   "codemirror_mode": {
    "name": "ipython",
    "version": 3
   },
   "file_extension": ".py",
   "mimetype": "text/x-python",
   "name": "python",
   "nbconvert_exporter": "python",
   "pygments_lexer": "ipython3",
   "version": "3.13.5"
  }
 },
 "nbformat": 4,
 "nbformat_minor": 5
}
