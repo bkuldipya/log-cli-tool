{
 "cells": [
  {
   "cell_type": "markdown",
   "id": "893a4692-4117-4914-a098-84f2e6b63a3a",
   "metadata": {},
   "source": [
    "**Parse Journald Logs**<br>\n",
    "**Subtasks:** <br>\n",
    "*1.* run journalctl command with the arguments given by the user using the subprocess module\n"
   ]
  },
  {
   "cell_type": "code",
   "execution_count": null,
   "id": "2ddc3834-904b-4ccb-9c09-fad41e49b63e",
   "metadata": {},
   "outputs": [],
   "source": [
    "import subprocess\n",
    "\n",
    "\n",
    "def parse_static(*args):                                                           #a.1\n",
    "    li = [\"journalctl\"] \n",
    "    li.extend(args)                                                                #a.2\n",
    "    CPObject = subprocess.run(li,capture_output=True,text=True)                    #a.3\n",
    "\n",
    "    if CPObject.returncode == 0:                                                   #a.4\n",
    "        return CPObject.stdout\n",
    "        \n",
    "    else:\n",
    "        return \"Error: \"+CPObject.stderr\n"
   ]
  },
  {
   "cell_type": "raw",
   "id": "8afb6e85-8570-493e-a9af-46a8b516f848",
   "metadata": {},
   "source": [
    "*#a.1* To get arbitrary number of arguments. args local variable will collect all the arguments and store them in a tuple<br>\n",
    "*#a.2* extend takes an iterable as an input and appends the elements of that iterable to the object in which the method is called upon.\n",
    "*#a.3* subprocess.run returns a CompletedProcessObject \n",
    "*#a.4* If the program ran successfully then the exit code is 0. If the exit code is something else then it prints the errors."
   ]
  }
 ],
 "metadata": {
  "kernelspec": {
   "display_name": "Python 3 (ipykernel)",
   "language": "python",
   "name": "python3"
  },
  "language_info": {
   "codemirror_mode": {
    "name": "ipython",
    "version": 3
   },
   "file_extension": ".py",
   "mimetype": "text/x-python",
   "name": "python",
   "nbconvert_exporter": "python",
   "pygments_lexer": "ipython3",
   "version": "3.13.5"
  }
 },
 "nbformat": 4,
 "nbformat_minor": 5
}
